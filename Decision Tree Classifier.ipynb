{
 "cells": [
  {
   "cell_type": "markdown",
   "metadata": {},
   "source": [
    "## Decision Tree Classifier\n",
    "\n",
    "## Princess Owotade (pjo395)\n",
    "\n",
    "\n",
    "I will implement some helper functions that would be necessary for a home-grown tree:\n",
    "  - calc_entropy\n",
    "  - calc_gini\n",
    "  \n",
    "and them test them out at given data splits. \n",
    "  \n",
    "And finally, to perform predictive and descriptive analytics I will use the [Decision Tree Classifier](https://scikit-learn.org/stable/modules/tree.html#classification) class.\n",
    "\n",
    "  \n",
    "For this code implentation, the stopping condition will be the depth of the tree. The impurity measure can be either `Entropy` or `Gini`\n",
    "\n",
    "To test my tree built from the Decision Tree Classifier class, I will use some Melbourne housing data (that has been cleaned and pruned) and use the files:\n",
    "\n",
    "   - `melb_tree_train.csv` for training the decision tree\n",
    "   - `melb_tree_test.csv` for testing the decision tree\n",
    "\n",
    "There are 10 features in these dataframes that I can use to describe and predict the housing \"Type\", which is 'h' house, 'u' duplex, or 't' townhome. "
   ]
  },
  {
   "cell_type": "code",
   "execution_count": 1,
   "metadata": {},
   "outputs": [],
   "source": [
    "# import the libraries!\n",
    "import pandas as pd\n",
    "import numpy as np\n",
    "import matplotlib.pyplot as plt\n",
    "%matplotlib inline\n",
    "from math import log2\n",
    "from sklearn import tree # Yes, you get to use scikit-learn this assignment, but only when I say!\n",
    "import graphviz"
   ]
  },
  {
   "cell_type": "markdown",
   "metadata": {},
   "source": [
    "## Loading the Data\n",
    "I will load in the melb_tree_train.csv into a dataframe, and split that dataframe into `df_X` containing the features of the data set (everything but `Type`), and `s_y`, the series containing just the label column (just `Type`)"
   ]
  },
  {
   "cell_type": "code",
   "execution_count": 2,
   "metadata": {},
   "outputs": [],
   "source": [
    "df_x = pd.read_csv('melb_tree_train.csv', usecols = ['Rooms', 'Price', 'Distance', 'Bedroom2', 'Bathroom', 'Car', 'Landsize','BuildingArea','YearBuilt','CouncilArea'])\n",
    "s_y = pd.read_csv('melb_tree_train.csv', usecols = ['Type'])"
   ]
  },
  {
   "cell_type": "markdown",
   "metadata": {},
   "source": [
    "## Defining the entropy function\n",
    "I will implement a function `calc_entropy` that takes the labels series, s_y, as a parameter. "
   ]
  },
  {
   "cell_type": "code",
   "execution_count": 3,
   "metadata": {},
   "outputs": [],
   "source": [
    "def calc_entropy (s_y):\n",
    "    \n",
    "    t_value = 0\n",
    "    u_value = 0\n",
    "    h_value = 0\n",
    "    \n",
    "    for i in range(len(s_y)):\n",
    "        if s_y.iloc[i].any() == 't':\n",
    "            t_value+=1\n",
    "        elif s_y.iloc[i].any() == 'u':\n",
    "            u_value+=1\n",
    "        else:\n",
    "            h_value+=1\n",
    "            \n",
    "    total = t_value + u_value + h_value\n",
    "    \n",
    "    entropy = ((-t_value/total)*log2(t_value/total)+(-u_value/total)*log2(u_value/total)+(-h_value/total)*log2(h_value/total))\n",
    "    return entropy\n",
    "\n",
    "    "
   ]
  },
  {
   "cell_type": "markdown",
   "metadata": {},
   "source": [
    "## I will use the entropy function to\n",
    "  - (a) Calculate the entropy of the entire training set\n",
    "  - (b) Calculate the entropy of the three partitions formed from \n",
    "    * Landsize $\\in$ [0,200]\n",
    "    * Landsize $\\in$ (200,450]\n",
    "    * Landsize $\\in$ (450, $\\infty$)"
   ]
  },
  {
   "cell_type": "code",
   "execution_count": 4,
   "metadata": {},
   "outputs": [
    {
     "data": {
      "text/plain": [
       "1.5825333114261775"
      ]
     },
     "execution_count": 4,
     "metadata": {},
     "output_type": "execute_result"
    }
   ],
   "source": [
    "calc_entropy(s_y)"
   ]
  },
  {
   "cell_type": "code",
   "execution_count": 5,
   "metadata": {},
   "outputs": [
    {
     "data": {
      "text/plain": [
       "1.3456432116206725"
      ]
     },
     "execution_count": 5,
     "metadata": {},
     "output_type": "execute_result"
    }
   ],
   "source": [
    "calc_entropy(s_y[df_x['Landsize'] <= 200])"
   ]
  },
  {
   "cell_type": "code",
   "execution_count": 6,
   "metadata": {},
   "outputs": [
    {
     "data": {
      "text/plain": [
       "1.4660501816027978"
      ]
     },
     "execution_count": 6,
     "metadata": {},
     "output_type": "execute_result"
    }
   ],
   "source": [
    "calc_entropy(s_y[df_x['Landsize'].between(201, 450, inclusive = True)])"
   ]
  },
  {
   "cell_type": "code",
   "execution_count": 7,
   "metadata": {},
   "outputs": [
    {
     "data": {
      "text/plain": [
       "1.09954792005911"
      ]
     },
     "execution_count": 7,
     "metadata": {},
     "output_type": "execute_result"
    }
   ],
   "source": [
    "calc_entropy(s_y[df_x['Landsize'] > 450])"
   ]
  },
  {
   "cell_type": "markdown",
   "metadata": {},
   "source": [
    "## Defining the Gini Index\n",
    "Implement the function `calc_gini` that takes the labels series, s_y, as a parameter. Implement using the definition on p128 in the DM book.  Use only pandas library"
   ]
  },
  {
   "cell_type": "code",
   "execution_count": 8,
   "metadata": {},
   "outputs": [],
   "source": [
    "def calc_gini(s_y):\n",
    "    \n",
    "    t_value = 0\n",
    "    u_value = 0\n",
    "    h_value = 0\n",
    "    \n",
    "    for i in range(len(s_y)):\n",
    "        if s_y.iloc[i].any() == 't':\n",
    "            t_value+=1\n",
    "        elif s_y.iloc[i].any() == 'u':\n",
    "            u_value+=1\n",
    "        else:\n",
    "            h_value+=1\n",
    "            \n",
    "    total = t_value + u_value + h_value\n",
    "    \n",
    "    gini = 1 - (((t_value/total)**2) + ((u_value/total)**2) + ((h_value/total)**2))\n",
    "    \n",
    "    return gini"
   ]
  },
  {
   "cell_type": "markdown",
   "metadata": {},
   "source": [
    "## I will use the Gini Index function to\n",
    "  - (a) Calculate the Gini index of the entire training set\n",
    "  - (b) Calculate the Gini index of the three partitions formed from \n",
    "    * Landsize $\\in$ [0,200]\n",
    "    * Landsize $\\in$ (200,450]\n",
    "    * Landsize $\\in$ (450, $\\infty$)"
   ]
  },
  {
   "cell_type": "code",
   "execution_count": 9,
   "metadata": {},
   "outputs": [
    {
     "data": {
      "text/plain": [
       "0.6655601280292638"
      ]
     },
     "execution_count": 9,
     "metadata": {},
     "output_type": "execute_result"
    }
   ],
   "source": [
    "calc_gini(s_y)"
   ]
  },
  {
   "cell_type": "code",
   "execution_count": 10,
   "metadata": {},
   "outputs": [
    {
     "data": {
      "text/plain": [
       "0.5741211482422965"
      ]
     },
     "execution_count": 10,
     "metadata": {},
     "output_type": "execute_result"
    }
   ],
   "source": [
    "calc_gini(s_y[df_x['Landsize'] <= 200])"
   ]
  },
  {
   "cell_type": "code",
   "execution_count": 11,
   "metadata": {},
   "outputs": [
    {
     "data": {
      "text/plain": [
       "0.6101021682602731"
      ]
     },
     "execution_count": 11,
     "metadata": {},
     "output_type": "execute_result"
    }
   ],
   "source": [
    "calc_gini(s_y[df_x['Landsize'].between(201, 450, inclusive = True)])"
   ]
  },
  {
   "cell_type": "code",
   "execution_count": 12,
   "metadata": {},
   "outputs": [
    {
     "data": {
      "text/plain": [
       "0.43819341715976323"
      ]
     },
     "execution_count": 12,
     "metadata": {},
     "output_type": "execute_result"
    }
   ],
   "source": [
    "calc_gini(s_y[df_x['Landsize'] > 450])"
   ]
  },
  {
   "cell_type": "markdown",
   "metadata": {},
   "source": [
    "## Creating a decision tree \n",
    "I will use [scikit-learn](https://scikit-learn.org/stable/modules/tree.html#tree) create a multi class classifer for the data set using the Entropy impurity measure and a max depth of 3"
   ]
  },
  {
   "cell_type": "code",
   "execution_count": 13,
   "metadata": {},
   "outputs": [],
   "source": [
    "one_hot = pd.get_dummies(df_x.CouncilArea, prefix = 'Area')\n",
    "df_x = pd.concat([df_x, one_hot], axis = 1)\n",
    "df_x = df_x.drop('CouncilArea', axis = 1)"
   ]
  },
  {
   "cell_type": "code",
   "execution_count": 14,
   "metadata": {},
   "outputs": [],
   "source": [
    "y = np.array(s_y)\n",
    "x = np.array(df_x.iloc[:,:])"
   ]
  },
  {
   "cell_type": "code",
   "execution_count": 15,
   "metadata": {},
   "outputs": [
    {
     "name": "stdout",
     "output_type": "stream",
     "text": [
      "|--- YearBuilt <= 1977.50\n",
      "|   |--- Rooms <= 2.50\n",
      "|   |   |--- Price <= 915000.00\n",
      "|   |   |   |--- class: u\n",
      "|   |   |--- Price >  915000.00\n",
      "|   |   |   |--- class: h\n",
      "|   |--- Rooms >  2.50\n",
      "|   |   |--- Landsize <= 429.00\n",
      "|   |   |   |--- class: h\n",
      "|   |   |--- Landsize >  429.00\n",
      "|   |   |   |--- class: h\n",
      "|--- YearBuilt >  1977.50\n",
      "|   |--- BuildingArea <= 104.31\n",
      "|   |   |--- Landsize <= 76.00\n",
      "|   |   |   |--- class: u\n",
      "|   |   |--- Landsize >  76.00\n",
      "|   |   |   |--- class: t\n",
      "|   |--- BuildingArea >  104.31\n",
      "|   |   |--- Landsize <= 391.00\n",
      "|   |   |   |--- class: t\n",
      "|   |   |--- Landsize >  391.00\n",
      "|   |   |   |--- class: h\n",
      "\n"
     ]
    },
    {
     "data": {
      "image/svg+xml": [
       "<?xml version=\"1.0\" encoding=\"UTF-8\" standalone=\"no\"?>\r\n",
       "<!DOCTYPE svg PUBLIC \"-//W3C//DTD SVG 1.1//EN\"\r\n",
       " \"http://www.w3.org/Graphics/SVG/1.1/DTD/svg11.dtd\">\r\n",
       "<!-- Generated by graphviz version 2.38.0 (20140413.2041)\r\n",
       " -->\r\n",
       "<!-- Title: Tree Pages: 1 -->\r\n",
       "<svg width=\"1094pt\" height=\"373pt\"\r\n",
       " viewBox=\"0.00 0.00 1094.00 373.00\" xmlns=\"http://www.w3.org/2000/svg\" xmlns:xlink=\"http://www.w3.org/1999/xlink\">\r\n",
       "<g id=\"graph0\" class=\"graph\" transform=\"scale(1 1) rotate(0) translate(4 369)\">\r\n",
       "<title>Tree</title>\r\n",
       "<polygon fill=\"white\" stroke=\"none\" points=\"-4,4 -4,-369 1090,-369 1090,4 -4,4\"/>\r\n",
       "<!-- 0 -->\r\n",
       "<g id=\"node1\" class=\"node\"><title>0</title>\r\n",
       "<polygon fill=\"none\" stroke=\"black\" points=\"609.5,-365 463.5,-365 463.5,-297 609.5,-297 609.5,-365\"/>\r\n",
       "<text text-anchor=\"middle\" x=\"536.5\" y=\"-349.8\" font-family=\"Times New Roman,serif\" font-size=\"14.00\">YearBuilt &lt;= 1977.5</text>\r\n",
       "<text text-anchor=\"middle\" x=\"536.5\" y=\"-334.8\" font-family=\"Times New Roman,serif\" font-size=\"14.00\">entropy = 1.583</text>\r\n",
       "<text text-anchor=\"middle\" x=\"536.5\" y=\"-319.8\" font-family=\"Times New Roman,serif\" font-size=\"14.00\">samples = 810</text>\r\n",
       "<text text-anchor=\"middle\" x=\"536.5\" y=\"-304.8\" font-family=\"Times New Roman,serif\" font-size=\"14.00\">value = [248, 281, 281]</text>\r\n",
       "</g>\r\n",
       "<!-- 1 -->\r\n",
       "<g id=\"node2\" class=\"node\"><title>1</title>\r\n",
       "<polygon fill=\"none\" stroke=\"black\" points=\"500,-261 361,-261 361,-193 500,-193 500,-261\"/>\r\n",
       "<text text-anchor=\"middle\" x=\"430.5\" y=\"-245.8\" font-family=\"Times New Roman,serif\" font-size=\"14.00\">Rooms &lt;= 2.5</text>\r\n",
       "<text text-anchor=\"middle\" x=\"430.5\" y=\"-230.8\" font-family=\"Times New Roman,serif\" font-size=\"14.00\">entropy = 1.264</text>\r\n",
       "<text text-anchor=\"middle\" x=\"430.5\" y=\"-215.8\" font-family=\"Times New Roman,serif\" font-size=\"14.00\">samples = 370</text>\r\n",
       "<text text-anchor=\"middle\" x=\"430.5\" y=\"-200.8\" font-family=\"Times New Roman,serif\" font-size=\"14.00\">value = [194, 23, 153]</text>\r\n",
       "</g>\r\n",
       "<!-- 0&#45;&gt;1 -->\r\n",
       "<g id=\"edge1\" class=\"edge\"><title>0&#45;&gt;1</title>\r\n",
       "<path fill=\"none\" stroke=\"black\" d=\"M502.085,-296.884C492.643,-287.798 482.3,-277.845 472.485,-268.4\"/>\r\n",
       "<polygon fill=\"black\" stroke=\"black\" points=\"474.738,-265.711 465.105,-261.299 469.884,-270.755 474.738,-265.711\"/>\r\n",
       "<text text-anchor=\"middle\" x=\"465.586\" y=\"-282.595\" font-family=\"Times New Roman,serif\" font-size=\"14.00\">True</text>\r\n",
       "</g>\r\n",
       "<!-- 8 -->\r\n",
       "<g id=\"node9\" class=\"node\"><title>8</title>\r\n",
       "<polygon fill=\"none\" stroke=\"black\" points=\"722,-261 565,-261 565,-193 722,-193 722,-261\"/>\r\n",
       "<text text-anchor=\"middle\" x=\"643.5\" y=\"-245.8\" font-family=\"Times New Roman,serif\" font-size=\"14.00\">BuildingArea &lt;= 104.315</text>\r\n",
       "<text text-anchor=\"middle\" x=\"643.5\" y=\"-230.8\" font-family=\"Times New Roman,serif\" font-size=\"14.00\">entropy = 1.341</text>\r\n",
       "<text text-anchor=\"middle\" x=\"643.5\" y=\"-215.8\" font-family=\"Times New Roman,serif\" font-size=\"14.00\">samples = 440</text>\r\n",
       "<text text-anchor=\"middle\" x=\"643.5\" y=\"-200.8\" font-family=\"Times New Roman,serif\" font-size=\"14.00\">value = [54, 258, 128]</text>\r\n",
       "</g>\r\n",
       "<!-- 0&#45;&gt;8 -->\r\n",
       "<g id=\"edge8\" class=\"edge\"><title>0&#45;&gt;8</title>\r\n",
       "<path fill=\"none\" stroke=\"black\" d=\"M571.24,-296.884C580.771,-287.798 591.211,-277.845 601.119,-268.4\"/>\r\n",
       "<polygon fill=\"black\" stroke=\"black\" points=\"603.745,-270.733 608.568,-261.299 598.915,-265.666 603.745,-270.733\"/>\r\n",
       "<text text-anchor=\"middle\" x=\"607.97\" y=\"-282.592\" font-family=\"Times New Roman,serif\" font-size=\"14.00\">False</text>\r\n",
       "</g>\r\n",
       "<!-- 2 -->\r\n",
       "<g id=\"node3\" class=\"node\"><title>2</title>\r\n",
       "<polygon fill=\"none\" stroke=\"black\" points=\"259.5,-157 127.5,-157 127.5,-89 259.5,-89 259.5,-157\"/>\r\n",
       "<text text-anchor=\"middle\" x=\"193.5\" y=\"-141.8\" font-family=\"Times New Roman,serif\" font-size=\"14.00\">Price &lt;= 915000.0</text>\r\n",
       "<text text-anchor=\"middle\" x=\"193.5\" y=\"-126.8\" font-family=\"Times New Roman,serif\" font-size=\"14.00\">entropy = 0.974</text>\r\n",
       "<text text-anchor=\"middle\" x=\"193.5\" y=\"-111.8\" font-family=\"Times New Roman,serif\" font-size=\"14.00\">samples = 182</text>\r\n",
       "<text text-anchor=\"middle\" x=\"193.5\" y=\"-96.8\" font-family=\"Times New Roman,serif\" font-size=\"14.00\">value = [33, 10, 139]</text>\r\n",
       "</g>\r\n",
       "<!-- 1&#45;&gt;2 -->\r\n",
       "<g id=\"edge2\" class=\"edge\"><title>1&#45;&gt;2</title>\r\n",
       "<path fill=\"none\" stroke=\"black\" d=\"M360.994,-196.086C332.154,-183.674 298.615,-169.239 269.157,-156.561\"/>\r\n",
       "<polygon fill=\"black\" stroke=\"black\" points=\"270.317,-153.25 259.748,-152.512 267.55,-159.68 270.317,-153.25\"/>\r\n",
       "</g>\r\n",
       "<!-- 5 -->\r\n",
       "<g id=\"node6\" class=\"node\"><title>5</title>\r\n",
       "<polygon fill=\"none\" stroke=\"black\" points=\"496.5,-157 364.5,-157 364.5,-89 496.5,-89 496.5,-157\"/>\r\n",
       "<text text-anchor=\"middle\" x=\"430.5\" y=\"-141.8\" font-family=\"Times New Roman,serif\" font-size=\"14.00\">Landsize &lt;= 429.0</text>\r\n",
       "<text text-anchor=\"middle\" x=\"430.5\" y=\"-126.8\" font-family=\"Times New Roman,serif\" font-size=\"14.00\">entropy = 0.737</text>\r\n",
       "<text text-anchor=\"middle\" x=\"430.5\" y=\"-111.8\" font-family=\"Times New Roman,serif\" font-size=\"14.00\">samples = 188</text>\r\n",
       "<text text-anchor=\"middle\" x=\"430.5\" y=\"-96.8\" font-family=\"Times New Roman,serif\" font-size=\"14.00\">value = [161, 13, 14]</text>\r\n",
       "</g>\r\n",
       "<!-- 1&#45;&gt;5 -->\r\n",
       "<g id=\"edge5\" class=\"edge\"><title>1&#45;&gt;5</title>\r\n",
       "<path fill=\"none\" stroke=\"black\" d=\"M430.5,-192.884C430.5,-184.778 430.5,-175.982 430.5,-167.472\"/>\r\n",
       "<polygon fill=\"black\" stroke=\"black\" points=\"434,-167.299 430.5,-157.299 427,-167.299 434,-167.299\"/>\r\n",
       "</g>\r\n",
       "<!-- 3 -->\r\n",
       "<g id=\"node4\" class=\"node\"><title>3</title>\r\n",
       "<polygon fill=\"none\" stroke=\"black\" points=\"119,-53 -7.10543e-015,-53 -7.10543e-015,-0 119,-0 119,-53\"/>\r\n",
       "<text text-anchor=\"middle\" x=\"59.5\" y=\"-37.8\" font-family=\"Times New Roman,serif\" font-size=\"14.00\">entropy = 0.595</text>\r\n",
       "<text text-anchor=\"middle\" x=\"59.5\" y=\"-22.8\" font-family=\"Times New Roman,serif\" font-size=\"14.00\">samples = 150</text>\r\n",
       "<text text-anchor=\"middle\" x=\"59.5\" y=\"-7.8\" font-family=\"Times New Roman,serif\" font-size=\"14.00\">value = [9, 7, 134]</text>\r\n",
       "</g>\r\n",
       "<!-- 2&#45;&gt;3 -->\r\n",
       "<g id=\"edge3\" class=\"edge\"><title>2&#45;&gt;3</title>\r\n",
       "<path fill=\"none\" stroke=\"black\" d=\"M146.633,-88.9485C132.883,-79.2516 117.886,-68.6752 104.27,-59.073\"/>\r\n",
       "<polygon fill=\"black\" stroke=\"black\" points=\"106.184,-56.1397 95.9944,-53.2367 102.149,-61.8603 106.184,-56.1397\"/>\r\n",
       "</g>\r\n",
       "<!-- 4 -->\r\n",
       "<g id=\"node5\" class=\"node\"><title>4</title>\r\n",
       "<polygon fill=\"none\" stroke=\"black\" points=\"249.5,-53 137.5,-53 137.5,-0 249.5,-0 249.5,-53\"/>\r\n",
       "<text text-anchor=\"middle\" x=\"193.5\" y=\"-37.8\" font-family=\"Times New Roman,serif\" font-size=\"14.00\">entropy = 1.05</text>\r\n",
       "<text text-anchor=\"middle\" x=\"193.5\" y=\"-22.8\" font-family=\"Times New Roman,serif\" font-size=\"14.00\">samples = 32</text>\r\n",
       "<text text-anchor=\"middle\" x=\"193.5\" y=\"-7.8\" font-family=\"Times New Roman,serif\" font-size=\"14.00\">value = [24, 3, 5]</text>\r\n",
       "</g>\r\n",
       "<!-- 2&#45;&gt;4 -->\r\n",
       "<g id=\"edge4\" class=\"edge\"><title>2&#45;&gt;4</title>\r\n",
       "<path fill=\"none\" stroke=\"black\" d=\"M193.5,-88.9485C193.5,-80.7153 193.5,-71.848 193.5,-63.4814\"/>\r\n",
       "<polygon fill=\"black\" stroke=\"black\" points=\"197,-63.2367 193.5,-53.2367 190,-63.2367 197,-63.2367\"/>\r\n",
       "</g>\r\n",
       "<!-- 6 -->\r\n",
       "<g id=\"node7\" class=\"node\"><title>6</title>\r\n",
       "<polygon fill=\"none\" stroke=\"black\" points=\"393,-53 268,-53 268,-0 393,-0 393,-53\"/>\r\n",
       "<text text-anchor=\"middle\" x=\"330.5\" y=\"-37.8\" font-family=\"Times New Roman,serif\" font-size=\"14.00\">entropy = 1.22</text>\r\n",
       "<text text-anchor=\"middle\" x=\"330.5\" y=\"-22.8\" font-family=\"Times New Roman,serif\" font-size=\"14.00\">samples = 69</text>\r\n",
       "<text text-anchor=\"middle\" x=\"330.5\" y=\"-7.8\" font-family=\"Times New Roman,serif\" font-size=\"14.00\">value = [47, 10, 12]</text>\r\n",
       "</g>\r\n",
       "<!-- 5&#45;&gt;6 -->\r\n",
       "<g id=\"edge6\" class=\"edge\"><title>5&#45;&gt;6</title>\r\n",
       "<path fill=\"none\" stroke=\"black\" d=\"M395.525,-88.9485C385.651,-79.6175 374.915,-69.4722 365.065,-60.1641\"/>\r\n",
       "<polygon fill=\"black\" stroke=\"black\" points=\"367.407,-57.5613 357.735,-53.2367 362.599,-62.649 367.407,-57.5613\"/>\r\n",
       "</g>\r\n",
       "<!-- 7 -->\r\n",
       "<g id=\"node8\" class=\"node\"><title>7</title>\r\n",
       "<polygon fill=\"none\" stroke=\"black\" points=\"530,-53 411,-53 411,-0 530,-0 530,-53\"/>\r\n",
       "<text text-anchor=\"middle\" x=\"470.5\" y=\"-37.8\" font-family=\"Times New Roman,serif\" font-size=\"14.00\">entropy = 0.292</text>\r\n",
       "<text text-anchor=\"middle\" x=\"470.5\" y=\"-22.8\" font-family=\"Times New Roman,serif\" font-size=\"14.00\">samples = 119</text>\r\n",
       "<text text-anchor=\"middle\" x=\"470.5\" y=\"-7.8\" font-family=\"Times New Roman,serif\" font-size=\"14.00\">value = [114, 3, 2]</text>\r\n",
       "</g>\r\n",
       "<!-- 5&#45;&gt;7 -->\r\n",
       "<g id=\"edge7\" class=\"edge\"><title>5&#45;&gt;7</title>\r\n",
       "<path fill=\"none\" stroke=\"black\" d=\"M444.49,-88.9485C448.091,-80.4408 451.979,-71.2562 455.623,-62.6464\"/>\r\n",
       "<polygon fill=\"black\" stroke=\"black\" points=\"458.931,-63.81 459.606,-53.2367 452.485,-61.0814 458.931,-63.81\"/>\r\n",
       "</g>\r\n",
       "<!-- 9 -->\r\n",
       "<g id=\"node10\" class=\"node\"><title>9</title>\r\n",
       "<polygon fill=\"none\" stroke=\"black\" points=\"703,-157 584,-157 584,-89 703,-89 703,-157\"/>\r\n",
       "<text text-anchor=\"middle\" x=\"643.5\" y=\"-141.8\" font-family=\"Times New Roman,serif\" font-size=\"14.00\">Landsize &lt;= 76.0</text>\r\n",
       "<text text-anchor=\"middle\" x=\"643.5\" y=\"-126.8\" font-family=\"Times New Roman,serif\" font-size=\"14.00\">entropy = 1.118</text>\r\n",
       "<text text-anchor=\"middle\" x=\"643.5\" y=\"-111.8\" font-family=\"Times New Roman,serif\" font-size=\"14.00\">samples = 145</text>\r\n",
       "<text text-anchor=\"middle\" x=\"643.5\" y=\"-96.8\" font-family=\"Times New Roman,serif\" font-size=\"14.00\">value = [5, 49, 91]</text>\r\n",
       "</g>\r\n",
       "<!-- 8&#45;&gt;9 -->\r\n",
       "<g id=\"edge9\" class=\"edge\"><title>8&#45;&gt;9</title>\r\n",
       "<path fill=\"none\" stroke=\"black\" d=\"M643.5,-192.884C643.5,-184.778 643.5,-175.982 643.5,-167.472\"/>\r\n",
       "<polygon fill=\"black\" stroke=\"black\" points=\"647,-167.299 643.5,-157.299 640,-167.299 647,-167.299\"/>\r\n",
       "</g>\r\n",
       "<!-- 12 -->\r\n",
       "<g id=\"node13\" class=\"node\"><title>12</title>\r\n",
       "<polygon fill=\"none\" stroke=\"black\" points=\"948.5,-157 816.5,-157 816.5,-89 948.5,-89 948.5,-157\"/>\r\n",
       "<text text-anchor=\"middle\" x=\"882.5\" y=\"-141.8\" font-family=\"Times New Roman,serif\" font-size=\"14.00\">Landsize &lt;= 391.0</text>\r\n",
       "<text text-anchor=\"middle\" x=\"882.5\" y=\"-126.8\" font-family=\"Times New Roman,serif\" font-size=\"14.00\">entropy = 1.158</text>\r\n",
       "<text text-anchor=\"middle\" x=\"882.5\" y=\"-111.8\" font-family=\"Times New Roman,serif\" font-size=\"14.00\">samples = 295</text>\r\n",
       "<text text-anchor=\"middle\" x=\"882.5\" y=\"-96.8\" font-family=\"Times New Roman,serif\" font-size=\"14.00\">value = [49, 209, 37]</text>\r\n",
       "</g>\r\n",
       "<!-- 8&#45;&gt;12 -->\r\n",
       "<g id=\"edge12\" class=\"edge\"><title>8&#45;&gt;12</title>\r\n",
       "<path fill=\"none\" stroke=\"black\" d=\"M721.096,-192.884C748.53,-181.176 779.337,-168.028 806.626,-156.382\"/>\r\n",
       "<polygon fill=\"black\" stroke=\"black\" points=\"808.296,-159.474 816.12,-152.33 805.549,-153.036 808.296,-159.474\"/>\r\n",
       "</g>\r\n",
       "<!-- 10 -->\r\n",
       "<g id=\"node11\" class=\"node\"><title>10</title>\r\n",
       "<polygon fill=\"none\" stroke=\"black\" points=\"660.5,-53 548.5,-53 548.5,-0 660.5,-0 660.5,-53\"/>\r\n",
       "<text text-anchor=\"middle\" x=\"604.5\" y=\"-37.8\" font-family=\"Times New Roman,serif\" font-size=\"14.00\">entropy = 0.523</text>\r\n",
       "<text text-anchor=\"middle\" x=\"604.5\" y=\"-22.8\" font-family=\"Times New Roman,serif\" font-size=\"14.00\">samples = 68</text>\r\n",
       "<text text-anchor=\"middle\" x=\"604.5\" y=\"-7.8\" font-family=\"Times New Roman,serif\" font-size=\"14.00\">value = [0, 8, 60]</text>\r\n",
       "</g>\r\n",
       "<!-- 9&#45;&gt;10 -->\r\n",
       "<g id=\"edge10\" class=\"edge\"><title>9&#45;&gt;10</title>\r\n",
       "<path fill=\"none\" stroke=\"black\" d=\"M629.86,-88.9485C626.349,-80.4408 622.558,-71.2562 619.005,-62.6464\"/>\r\n",
       "<polygon fill=\"black\" stroke=\"black\" points=\"622.172,-61.1452 615.121,-53.2367 615.701,-63.8157 622.172,-61.1452\"/>\r\n",
       "</g>\r\n",
       "<!-- 11 -->\r\n",
       "<g id=\"node12\" class=\"node\"><title>11</title>\r\n",
       "<polygon fill=\"none\" stroke=\"black\" points=\"798,-53 679,-53 679,-0 798,-0 798,-53\"/>\r\n",
       "<text text-anchor=\"middle\" x=\"738.5\" y=\"-37.8\" font-family=\"Times New Roman,serif\" font-size=\"14.00\">entropy = 1.269</text>\r\n",
       "<text text-anchor=\"middle\" x=\"738.5\" y=\"-22.8\" font-family=\"Times New Roman,serif\" font-size=\"14.00\">samples = 77</text>\r\n",
       "<text text-anchor=\"middle\" x=\"738.5\" y=\"-7.8\" font-family=\"Times New Roman,serif\" font-size=\"14.00\">value = [5, 41, 31]</text>\r\n",
       "</g>\r\n",
       "<!-- 9&#45;&gt;11 -->\r\n",
       "<g id=\"edge11\" class=\"edge\"><title>9&#45;&gt;11</title>\r\n",
       "<path fill=\"none\" stroke=\"black\" d=\"M676.726,-88.9485C686.015,-79.709 696.106,-69.671 705.388,-60.4381\"/>\r\n",
       "<polygon fill=\"black\" stroke=\"black\" points=\"708.006,-62.7705 712.627,-53.2367 703.069,-57.8077 708.006,-62.7705\"/>\r\n",
       "</g>\r\n",
       "<!-- 13 -->\r\n",
       "<g id=\"node14\" class=\"node\"><title>13</title>\r\n",
       "<polygon fill=\"none\" stroke=\"black\" points=\"948.5,-53 816.5,-53 816.5,-0 948.5,-0 948.5,-53\"/>\r\n",
       "<text text-anchor=\"middle\" x=\"882.5\" y=\"-37.8\" font-family=\"Times New Roman,serif\" font-size=\"14.00\">entropy = 0.933</text>\r\n",
       "<text text-anchor=\"middle\" x=\"882.5\" y=\"-22.8\" font-family=\"Times New Roman,serif\" font-size=\"14.00\">samples = 245</text>\r\n",
       "<text text-anchor=\"middle\" x=\"882.5\" y=\"-7.8\" font-family=\"Times New Roman,serif\" font-size=\"14.00\">value = [18, 194, 33]</text>\r\n",
       "</g>\r\n",
       "<!-- 12&#45;&gt;13 -->\r\n",
       "<g id=\"edge13\" class=\"edge\"><title>12&#45;&gt;13</title>\r\n",
       "<path fill=\"none\" stroke=\"black\" d=\"M882.5,-88.9485C882.5,-80.7153 882.5,-71.848 882.5,-63.4814\"/>\r\n",
       "<polygon fill=\"black\" stroke=\"black\" points=\"886,-63.2367 882.5,-53.2367 879,-63.2367 886,-63.2367\"/>\r\n",
       "</g>\r\n",
       "<!-- 14 -->\r\n",
       "<g id=\"node15\" class=\"node\"><title>14</title>\r\n",
       "<polygon fill=\"none\" stroke=\"black\" points=\"1086,-53 967,-53 967,-0 1086,-0 1086,-53\"/>\r\n",
       "<text text-anchor=\"middle\" x=\"1026.5\" y=\"-37.8\" font-family=\"Times New Roman,serif\" font-size=\"14.00\">entropy = 1.24</text>\r\n",
       "<text text-anchor=\"middle\" x=\"1026.5\" y=\"-22.8\" font-family=\"Times New Roman,serif\" font-size=\"14.00\">samples = 50</text>\r\n",
       "<text text-anchor=\"middle\" x=\"1026.5\" y=\"-7.8\" font-family=\"Times New Roman,serif\" font-size=\"14.00\">value = [31, 15, 4]</text>\r\n",
       "</g>\r\n",
       "<!-- 12&#45;&gt;14 -->\r\n",
       "<g id=\"edge14\" class=\"edge\"><title>12&#45;&gt;14</title>\r\n",
       "<path fill=\"none\" stroke=\"black\" d=\"M932.864,-88.9485C947.78,-79.1601 964.061,-68.4756 978.803,-58.8015\"/>\r\n",
       "<polygon fill=\"black\" stroke=\"black\" points=\"980.842,-61.6495 987.282,-53.2367 977.001,-55.7971 980.842,-61.6495\"/>\r\n",
       "</g>\r\n",
       "</g>\r\n",
       "</svg>\r\n"
      ],
      "text/plain": [
       "<graphviz.files.Source at 0x1497dd1ef40>"
      ]
     },
     "execution_count": 15,
     "metadata": {},
     "output_type": "execute_result"
    }
   ],
   "source": [
    "from sklearn.tree import export_text\n",
    "features = list(df_x.columns)\n",
    "cl = list(s_y.columns)\n",
    "d_tree = tree.DecisionTreeClassifier(criterion = 'entropy', max_depth = 3)\n",
    "d_tree = d_tree.fit(x,y)\n",
    "d_data = tree.export_graphviz(d_tree, out_file = None, feature_names = features)\n",
    "r = export_text(d_tree, feature_names = features )\n",
    "print(r)\n",
    "graph = graphviz.Source(d_data)\n",
    "graph"
   ]
  },
  {
   "cell_type": "raw",
   "metadata": {},
   "source": [
    "1. There are 440 homes built after 1977 and 370 homes built before or in 1977.\n",
    "\n",
    "2.There are 150 homes priced at or below $915,000.00 that were built before or in the year 1977 and 32 homes priced above $915,000.00 that were built before or in the year 1977.\n",
    "\n",
    "3. For homes built after 1977,there are 245 homes with a land size less than or equal to 391, and there are 50 homes with a land size greater than 391. For homes built before or in the year 1977, there are 69 homes with a land size less than or equal to 429, and there are 119 homes with a land size greater than 429."
   ]
  },
  {
   "cell_type": "markdown",
   "metadata": {},
   "source": [
    "## Calculating the Accuracy and Display Learning Curve\n",
    "The test data will now be used.\n",
    "\n",
    "I will use the scikit-learn library to create decision trees with the following configurations\n",
    "\n",
    "    - Vary the max depth from 2 to 15 with the Gini Index as the impurity measure\n",
    "    - Vary the max depth from 2 to 15 with the Entropy as the impurity measure\n",
    "\n",
    "\n",
    "Evaluate the accuracy of each decision tree with both the \n",
    "  - Training set\n",
    "  - Test set\n",
    "\n",
    "I will display the results graphicaly, and offer an analysis of the trend. The max depth will be on the x-axis, and the error rate will be on the y-axis."
   ]
  },
  {
   "cell_type": "code",
   "execution_count": 16,
   "metadata": {},
   "outputs": [],
   "source": [
    "\n",
    "df_t = pd.read_csv('melb_tree_test.csv', usecols = ['Rooms', 'Price', 'Distance', 'Bedroom2', 'Bathroom', 'Car', 'Landsize','BuildingArea','YearBuilt','CouncilArea'])\n",
    "\n",
    "s_t = pd.read_csv('melb_tree_test.csv', usecols = ['Type'])\n",
    "\n",
    "t_one_hot = pd.get_dummies(df_t.CouncilArea, prefix = 'Area')\n",
    "\n",
    "df_t = pd.concat([df_t, t_one_hot], axis = 1)\n",
    "df_t = df_t.drop('CouncilArea', axis = 1)"
   ]
  },
  {
   "cell_type": "code",
   "execution_count": 17,
   "metadata": {},
   "outputs": [],
   "source": [
    "train_features = df_x.iloc[:,:]\n",
    "train_targets = s_y\n",
    "test_features = df_t.iloc[:,:]\n",
    "test_targets = s_t\n",
    "\n",
    "max_depth_range = list(range(2,16))\n",
    "\n",
    "#lists that will hold errors for training data(gini, entropy) and test data(gini, entropy)\n",
    "err_train_g = [] \n",
    "err_train_e = [] \n",
    "err_test_g = [] \n",
    "err_test_e = [] \n",
    "\n",
    " \n",
    "\n",
    "for depth in max_depth_range:\n",
    "    \n",
    "    train_predictions = 0\n",
    "    test_predictions = 0\n",
    "    \n",
    "    #lists that will hold correct predictions for training data(gini, entropy) and test data(gini, entropy)\n",
    "    tacc_g = [] \n",
    "    tacc_e = [] \n",
    "    sacc_g = [] \n",
    "    sacc_e = [] \n",
    "\n",
    "    tree_g = tree.DecisionTreeClassifier(criterion = 'gini', max_depth = depth).fit(x,y)\n",
    "    tree_e = tree.DecisionTreeClassifier(criterion = 'entropy', max_depth = depth).fit(x,y)\n",
    "    \n",
    "    y_train_g = tree_g.predict(train_features)\n",
    "    y_train_e = tree_e.predict(train_features)\n",
    "    y_test_g = tree_g.predict(test_features)\n",
    "    y_test_e = tree_e.predict(test_features)\n",
    "    \n",
    "    for i in range(len(train_targets)):\n",
    "        train_predictions += 1\n",
    "        if y_train_g[i] == train_targets.iloc[i].any():\n",
    "            tacc_g.append(1)\n",
    "        if y_train_e[i] == train_targets.iloc[i].any():\n",
    "            tacc_e.append(1)\n",
    "\n",
    "    for j in range(len(test_targets)):\n",
    "        test_predictions += 1\n",
    "        if y_test_g[j] == test_targets.iloc[j].any():\n",
    "            sacc_g.append(1)\n",
    "        if y_test_e[j] == test_targets.iloc[j].any():\n",
    "            sacc_e.append(1)\n",
    "\n",
    "    tg_acc = len(tacc_g)/train_predictions\n",
    "    te_acc = len(tacc_e)/train_predictions\n",
    "    sg_acc = len(sacc_g)/test_predictions\n",
    "    se_acc = len(sacc_e)/test_predictions\n",
    "\n",
    "    #calculating error\n",
    "    err_train_e.append(1 - te_acc)\n",
    "    err_test_e.append(1 - se_acc)\n",
    "    err_train_g.append(1 - tg_acc)\n",
    "    err_test_g.append(1 - sg_acc)\n",
    "\n",
    "\n"
   ]
  },
  {
   "cell_type": "code",
   "execution_count": 18,
   "metadata": {
    "scrolled": true
   },
   "outputs": [
    {
     "data": {
      "image/png": "[encoded data removed]",
      "text/plain": [
       "<Figure size 432x288 with 1 Axes>"
      ]
     },
     "metadata": {
      "needs_background": "light"
     },
     "output_type": "display_data"
    }
   ],
   "source": [
    "plt.plot(max_depth_range, err_train_e, label = 'Entropy Train', marker = '.')\n",
    "\n",
    "plt.plot(max_depth_range, err_test_e, label = 'Entropy Test', color = 'purple', marker = '.')\n",
    "\n",
    "plt.plot(max_depth_range, err_train_g, label = 'Gini Train', color = 'green', marker = '.')\n",
    "\n",
    "plt.plot(max_depth_range, err_test_g, label = 'Gini Test', color = 'red', marker = '.')\n",
    "\n",
    "plt.ylabel('Error Rate')\n",
    "plt.xlabel('Max Depth')\n",
    "plt.title('Depth vs. Error Rate')\n",
    "plt.legend()\n",
    "plt.show()"
   ]
  },
  {
   "cell_type": "raw",
   "metadata": {},
   "source": [
    "The line for Entropy Train shows that the lowest error rate occurs when max depth is 13. The Gini Train line shows that the lowest error rate occurs when max depth is greater than 14. The line for Entropy Test show that the lowest error rate occurs when the max depth is 4, while the line for Gini Test shows that the best max depth is 3. The lowest error rate for the test data and training data occurs when using Entropy as the impurity measure. "
   ]
  }
 ],
 "metadata": {
  "kernelspec": {
   "display_name": "Python 3",
   "language": "python",
   "name": "python3"
  },
  "language_info": {
   "codemirror_mode": {
    "name": "ipython",
    "version": 3
   },
   "file_extension": ".py",
   "mimetype": "text/x-python",
   "name": "python",
   "nbconvert_exporter": "python",
   "pygments_lexer": "ipython3",
   "version": "3.8.5"
  }
 },
 "nbformat": 4,
 "nbformat_minor": 4
}
